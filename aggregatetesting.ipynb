{
 "cells": [
  {
   "cell_type": "markdown",
   "id": "5beca2a0",
   "metadata": {},
   "source": [
    "***GENERATED CODE FOR aggregatetesting PIPELINE.***"
   ]
  },
  {
   "cell_type": "markdown",
   "id": "9958401d",
   "metadata": {},
   "source": [
    "***DON'T EDIT THIS CODE.***"
   ]
  },
  {
   "cell_type": "markdown",
   "id": "b3e961a1",
   "metadata": {},
   "source": [
    "***CONNECTOR FUNCTIONS TO READ DATA.***"
   ]
  },
  {
   "cell_type": "code",
   "execution_count": null,
   "id": "ac4d792a",
   "metadata": {},
   "outputs": [],
   "source": [
    "import os\n",
    "import datetime\n",
    "import logging\n",
    "import warnings\n",
    "warnings.filterwarnings('ignore')\n",
    "logging.basicConfig(format='%(levelname)s:%(message)s', level=logging.INFO)\n",
    "\n",
    "\n",
    "class HDFSConnector:\n",
    "\n",
    "    def fetch(spark, config):\n",
    "        ################### INPUT HADOOP HOST PORT TO CONNECT WITH ###############################\n",
    "        hdfs_server = str(os.environ['HDFS_SERVER'])\n",
    "        hdfs_port = int(os.environ['HDFS_PORT'])\n",
    "        df = spark.read.options(header='true', inferschema='true').csv(\n",
    "            f\"hdfs://{hdfs_server}:{hdfs_port}{eval(config)['url']}\", header='true')\n",
    "        display(df.limit(2).toPandas())\n",
    "        return df\n",
    "\n",
    "    def put(df, spark, config):\n",
    "        return df.write.format('csv').options(header='true' if eval(config)[\"is_header\"] == \"Use Header Line\" else 'false',\n",
    "                                              delimiter=eval(config)[\"delimiter\"]).save((\"%s %s\") % (datetime.datetime.now().strftime(\"%Y-%m-%d %H.%M.%S\")+\"_\", eval(config)['url']))\n"
   ]
  },
  {
   "cell_type": "markdown",
   "id": "55e3d080",
   "metadata": {},
   "source": [
    "***OPERATION FUNCTIONS***"
   ]
  },
  {
   "cell_type": "code",
   "execution_count": null,
   "id": "b8e1bd98",
   "metadata": {},
   "outputs": [],
   "source": [
    "class AggregationOperation:\n",
    "\n",
    "    def run(inStages, inStagesData, stageId, sparkSession, stageAttribs):\n",
    "\n",
    "        aggregations = \"\"\n",
    "\n",
    "        for aggregate in stageAttribs[\"aggregate_on\"]:\n",
    "            if aggregate['method_type'] == \"count\":\n",
    "                if aggregate['method'] == \"all\":\n",
    "                    aggregations += \"%s(%s) as %s, \" % (\n",
    "                        aggregate['method'], aggregate['input_field'], aggregate['aggregate_field'])\n",
    "                elif aggregate['method'] == \"empty\":\n",
    "                    aggregations += \"%s(case %s when null then 1 else null end) as %s, \" % (\n",
    "                        aggregate['method'], aggregate['input_field'], aggregate['aggregate_field'])\n",
    "                elif aggregate['method'] == \"non empty\":\n",
    "                    aggregations += \"%s(case %s when null then null else 1 end) as %s, \" % (\n",
    "                        aggregate['method'], aggregate['input_field'], aggregate['aggregate_field'])\n",
    "                elif aggregate['method'] == \"custom\":\n",
    "                    aggregations += \"%s(case %s when %s then 1 else null end) as %s, \" % (\n",
    "                        aggregate['method'], aggregate['input_field'], aggregate['count_custom_value'], aggregate['aggregate_field'])\n",
    "                elif aggregate['method'] == \"unique\":\n",
    "                    aggregations += \"%s(DISTINCT(%s)) as %s, \" % (\n",
    "                        aggregate['method'], aggregate['input_field'], aggregate['aggregate_field'])\n",
    "\n",
    "            else:\n",
    "                aggregations += \"%s(%s) as %s, \" % (\n",
    "                    aggregate['method'], aggregate['input_field'], aggregate['aggregate_field'])\n",
    "\n",
    "        group_by = \",\".join(stageAttribs[\"group_by\"])\n",
    "\n",
    "        inStagesData[inStages[0]].createOrReplaceTempView(\"view%s\" % (stageId))\n",
    "        query = \"SELECT %s %s FROM %s GROUP BY %s\" % (\n",
    "            aggregations, group_by, \"view%s\" % (stageId), group_by)\n",
    "        return sparkSession.sql(query)\n"
   ]
  },
  {
   "cell_type": "markdown",
   "id": "a3aa3ce8",
   "metadata": {},
   "source": [
    "***CONNECTOR FUNCTIONS TO WRITE DATA.***"
   ]
  },
  {
   "cell_type": "code",
   "execution_count": null,
   "id": "911afc66",
   "metadata": {},
   "outputs": [],
   "source": [
    "import datetime\n",
    "import requests\n",
    "import datetime\n",
    "import logging\n",
    "import warnings\n",
    "warnings.filterwarnings('ignore')\n",
    "logging.basicConfig(format='%(levelname)s:%(message)s', level=logging.INFO)\n",
    "\n",
    "\n",
    "class NumtraConnector:\n",
    "\n",
    "    def put(inStages, inStagesData, stageId, spark, config):\n",
    "        path = eval(config)['server_url']\n",
    "        baseType = eval(config)['baseType']\n",
    "        results_url = eval(config)['results_url']\n",
    "        server = eval(config)['server']\n",
    "        originalfile = eval(config)['orignalKey']\n",
    "        eval(config)['pathOnly']\n",
    "        filename = eval(config)['filename']\n",
    "        eval(config)['ser']\n",
    "        eval(config)['user']\n",
    "        eval(config)['password']\n",
    "        eval(config)['authSource']\n",
    "        eval(config)['user_id']\n",
    "        eval(config)['parent_id']\n",
    "        eval(config)['project_id']\n",
    "        time = str(int(datetime.datetime.now().timestamp()))\n",
    "\n",
    "        inStagesData[inStages[0]]\n",
    "\n",
    "        print(path)\n",
    "        print(baseType)\n",
    "        print(results_url)\n",
    "        print(server)\n",
    "        print(originalfile)\n",
    "        print(filename)\n",
    "\n",
    "        args = {\n",
    "            'url': path,\n",
    "            'baseType': baseType,\n",
    "            'originalfile': originalfile,\n",
    "            'filename': time + filename\n",
    "        }\n",
    "\n",
    "        response = requests.post(results_url, args)\n",
    "        return response\n"
   ]
  },
  {
   "cell_type": "markdown",
   "id": "1c682614",
   "metadata": {},
   "source": [
    "***READING DATAFRAME***"
   ]
  },
  {
   "cell_type": "code",
   "execution_count": null,
   "id": "536c3500",
   "metadata": {},
   "outputs": [],
   "source": [
    "############## CREATE SPARK SESSION ############################ ENTER YOUR SPARK MASTER IP AND PORT TO CONNECT TO SERVER ################\n",
    "from pyspark.sql import SparkSession\n",
    "spark = SparkSession.builder.master('local[1]').getOrCreate()\n",
    "#%run aggregatetestingHooks.ipynb\n",
    "try:\n",
    "\t#sourcePreExecutionHook()\n",
    "\n",
    "\taggregatetetfileclme = HDFSConnector.fetch(spark, \"{'url': '/FileStore/platform/testdata/1715767521934_Aggregate test file.csv', 'filename': 'Aggregate test file.csv', 'delimiter': ',', 'file_type': 'Delimeted', 'FilePath': '/DNM_TESTING 9th May/Test data/Aggregate test file.csv', 'viewFileName': 'Aggregate test file.csv', 'is_header': 'Use Header Line', 'baseType': 'hdfs', 'server_url': '/nexusMax/NexusMaxPlatform/uploads/platform/', 'results_url': 'http://dnm.bfirst.ai:44040/api/read/hdfs'}\")\n",
    "\n",
    "except Exception as ex: \n",
    "\tlogging.error(ex)\n",
    "#spark.stop()\n"
   ]
  },
  {
   "cell_type": "markdown",
   "id": "77b812ba",
   "metadata": {},
   "source": [
    "***PERFORMING OPERATIONS***"
   ]
  },
  {
   "cell_type": "code",
   "execution_count": null,
   "id": "b3da60d8",
   "metadata": {},
   "outputs": [],
   "source": [
    "#%run aggregatetestingHooks.ipynb\n",
    "try:\n",
    "\taggregation = AggregationOperation.run([\"66459fb6575dbb72f21d67ba\"],{\"66459fb6575dbb72f21d67ba\": aggregatetetfileclme}, \"66459fba575dbb72f21d67be\", spark, \"{'dataType': 'String', 'dataTypes': ['String', 'numeric', 'real'], 'SelectedColumns': ['State'], 'functionData': {'functionName': 'aggregate', 'applyOn': [{'columnName': 'State', 'type': 'String', 'disable': False}], 'functionsData': [{'aggregateFunction': 'max', 'aggregateOn': [{'columnName': 'State', 'type': 'String', 'disable': False}], 'groupOn': [{'columnName': 'State', 'type': 'String', 'disable': False}, {'columnName': 'Postal Code', 'type': 'numeric', 'disable': True}, {'columnName': 'Region', 'type': 'String', 'disable': False}, {'columnName': 'Category', 'type': 'String', 'disable': False}, {'columnName': 'Sub-Category', 'type': 'String', 'disable': False}, {'columnName': 'Sales', 'type': 'real', 'disable': True}]}]}, 'allColumns': [{'columnName': 'State', 'type': 'String', 'disable': False}, {'columnName': 'Postal Code', 'type': 'numeric', 'disable': True}, {'columnName': 'Region', 'type': 'String', 'disable': False}, {'columnName': 'Category', 'type': 'String', 'disable': False}, {'columnName': 'Sub-Category', 'type': 'String', 'disable': False}, {'columnName': 'Sales', 'type': 'real', 'disable': True}], 'url': '/FileStore/platform/testdata/1715767521934_Aggregate test file.csv', 'SelectedColumnsData': [{'columnName': 'State', 'type': 'String', 'disable': False}], 'groupOn': ['State', 'Postal Code', 'Region', 'Category', 'Sub-Category', 'Sales'], 'server_url': '/nexusMax/NexusMaxPlatform/uploads/platform/'}\")\n",
    "\n",
    "except Exception as ex: \n",
    "\tlogging.error(ex)\n"
   ]
  },
  {
   "cell_type": "markdown",
   "id": "5aead216",
   "metadata": {},
   "source": [
    "***WRITING DATAFRAME***"
   ]
  },
  {
   "cell_type": "code",
   "execution_count": null,
   "id": "eb4cf1e4",
   "metadata": {},
   "outputs": [],
   "source": [
    "#%run aggregatetestingHooks.ipynb\n",
    "try:\n",
    "\t#sinkPreExecutionHook()\n",
    "\n",
    "\tagrregateoutputsoutput = NumtraConnector.fetch(spark, \"{'samplefile': '/FileStore/platform/sampleData/66459fb6575dbb72f21d67ba/part-00000-b65cc09f-e915-4626-8e5b-67a803c7da46-c000.csv', 'samplecount': 49, 'originalcount': 49, 'orignalKey': '/FileStore/platform/testdata/1715767521934_Aggregate test file.csv', 'pathOnly': '/DNM_TESTING 9th May/Test_results/AgrregateOutputs', 'project_id': '6645a156575dbb72f21d6a5d', 'parent_id': '6645a156575dbb72f21d6a5d', 'original_schema': [{'checked': True, 'inherited': True, 'is_categorical': False, 'bad_values': '', 'nullable': 'true', '_id': '6645a2d6575dbb72f21d6bfc', 'field': 'State', 'alias': 'State', 'type': 'String', 'position': '0'}, {'checked': True, 'inherited': True, 'is_categorical': False, 'bad_values': '', 'nullable': 'true', '_id': '6645a2d6575dbb72f21d6bfd', 'field': 'Postal Code', 'alias': 'Postal Code', 'type': 'numeric', 'position': '1'}, {'checked': True, 'inherited': True, 'is_categorical': False, 'bad_values': '', 'nullable': 'true', '_id': '6645a2d6575dbb72f21d6bfe', 'field': 'Region', 'alias': 'Region', 'type': 'String', 'position': '2'}, {'checked': True, 'inherited': True, 'is_categorical': False, 'bad_values': '', 'nullable': 'true', '_id': '6645a2d6575dbb72f21d6bff', 'field': 'Category', 'alias': 'Category', 'type': 'String', 'position': '3'}, {'checked': True, 'inherited': True, 'is_categorical': False, 'bad_values': '', 'nullable': 'true', '_id': '6645a2d6575dbb72f21d6c00', 'field': 'Sub-Category', 'alias': 'Sub-Category', 'type': 'String', 'position': '4'}, {'checked': True, 'inherited': True, 'is_categorical': False, 'bad_values': '', 'nullable': 'true', '_id': '6645a2d6575dbb72f21d6c01', 'field': 'Sales', 'alias': 'Sales', 'type': 'real', 'position': '5'}], 'actual_schema': [{'checked': True, 'inherited': True, 'is_categorical': False, 'bad_values': '', 'nullable': 'true', '_id': '6645a2d6575dbb72f21d6bf6', 'field': 'State', 'alias': 'State', 'type': 'String', 'position': '0'}, {'checked': True, 'inherited': True, 'is_categorical': False, 'bad_values': '', 'nullable': 'true', '_id': '6645a2d6575dbb72f21d6bf7', 'field': 'Postal Code', 'alias': 'Postal Code', 'type': 'numeric', 'position': '1'}, {'checked': True, 'inherited': True, 'is_categorical': False, 'bad_values': '', 'nullable': 'true', '_id': '6645a2d6575dbb72f21d6bf8', 'field': 'Region', 'alias': 'Region', 'type': 'String', 'position': '2'}, {'checked': True, 'inherited': True, 'is_categorical': False, 'bad_values': '', 'nullable': 'true', '_id': '6645a2d6575dbb72f21d6bf9', 'field': 'Category', 'alias': 'Category', 'type': 'String', 'position': '3'}, {'checked': True, 'inherited': True, 'is_categorical': False, 'bad_values': '', 'nullable': 'true', '_id': '6645a2d6575dbb72f21d6bfa', 'field': 'Sub-Category', 'alias': 'Sub-Category', 'type': 'String', 'position': '4'}, {'checked': True, 'inherited': True, 'is_categorical': False, 'bad_values': '', 'nullable': 'true', '_id': '6645a2d6575dbb72f21d6bfb', 'field': 'Sales', 'alias': 'Sales', 'type': 'real', 'position': '5'}], 'server': 'https://dnm.bfirst.ai:443', 'server_url': '/nexusMax/NexusMaxPlatform/uploads/platform/', 'delimiter': ',', 'file_type': 'Delimeted', 'filename': 'Output1.csv', 'token': '', 'domain': '', 'is_header': 'Use Header Line', 'url': '/FileStore/platform/uploadedSourceFiles/part-00000-1b3b02f2-f8fd-4c5b-8c58-3f6c77577cb7-c000.csv', 'results_url': 'http://dnm.bfirst.ai:44040/api/read/hdfs'}\")\n",
    "\n",
    "except Exception as ex: \n",
    "\tlogging.error(ex)\n"
   ]
  }
 ],
 "metadata": {},
 "nbformat": 4,
 "nbformat_minor": 5
}
